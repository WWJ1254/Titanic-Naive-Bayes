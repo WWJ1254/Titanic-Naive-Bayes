{
 "cells": [
  {
   "cell_type": "code",
   "execution_count": 1,
   "metadata": {},
   "outputs": [],
   "source": [
    "import pandas as pd\n",
    "\n",
    "train = pd.read_csv('./train.csv')\n",
    "test = pd.read_csv('./test.csv')"
   ]
  },
  {
   "cell_type": "markdown",
   "metadata": {},
   "source": [
    "数据处理：           \n",
    "PassengerId => 乘客ID    \n",
    "Pclass => 客舱等级(1/2/3等舱位)           \n",
    "Name => 乘客姓名          \n",
    "Sex => 性别 清洗成male=1 female=0      \n",
    "Age => 年龄 插补后分0,1,2 代表 幼年（0-15） 成年（15-55） 老年（55-）  \n",
    "SibSp => 兄弟姐妹数/配偶数        \n",
    "Parch => 父母数/子女数         \n",
    "Ticket => 船票编号          \n",
    "Fare => 船票价格 0 1 2 代表少 多 很多    \n",
    "Cabin => 客舱号 清洗成有无此项，并发现有的生存率高     \n",
    "Embarked => 登船港口 清洗na,填S"
   ]
  },
  {
   "cell_type": "code",
   "execution_count": 2,
   "metadata": {},
   "outputs": [],
   "source": [
    "full = pd.concat([train,test],ignore_index=True)\n",
    "full['Embarked'].fillna('S',inplace=True)\n",
    "full.Fare.fillna(full[full.Pclass==3]['Fare'].median(),inplace=True)\n",
    "full.loc[full.Cabin.notnull(),'Cabin']=1\n",
    "full.loc[full.Cabin.isnull(),'Cabin']=0\n",
    "full.loc[full['Sex']=='male','Sex']=1\n",
    "full.loc[full['Sex']=='female','Sex']=0"
   ]
  },
  {
   "cell_type": "markdown",
   "metadata": {},
   "source": [
    "先根据Name提取Title，再用Title的中位数对Age进行插补"
   ]
  },
  {
   "cell_type": "code",
   "execution_count": 3,
   "metadata": {},
   "outputs": [],
   "source": [
    "full['Title']=full['Name'].apply(lambda x: x.split(',')[1].split('.')[0].strip())\n",
    "nn={'Capt':'Rareman','Col':'Rareman','Don':'Rareman','Dona':'Rarewoman',\n",
    "    'Dr':'Rareman','Jonkheer':'Rareman','Lady':'Rarewoman','Major':'Rareman',\n",
    "   'Master':'Master','Miss':'Miss','Mlle':'Rarewoman','Mme':'Rarewoman',\n",
    "   'Mr':'Mr','Mrs':'Mrs','Ms':'Rarewoman','Rev':'Mr','Sir':'Rareman',\n",
    "    'the Countess':'Rarewoman'}\n",
    "full.Title=full.Title.map(nn)\n",
    "full.loc[full.PassengerId==797,'Title']='Rarewoman'"
   ]
  },
  {
   "cell_type": "markdown",
   "metadata": {},
   "source": [
    "Title中的Master主要表示little boy，儿童的生存率往往较高，所以要找出little girl，再填补Age的缺失值。  \n",
    "找出包含在Miss中little girl，根据Master（little boy）的最大值14岁，规定小于14岁的Miss是little girl；缺失年龄的Miss，用假定little girl都由家长陪同上船，因此使用Parch来判定是否为little\n",
    "girl  \n",
    "//赋缺失年龄数据值999"
   ]
  },
  {
   "cell_type": "code",
   "execution_count": 4,
   "metadata": {},
   "outputs": [],
   "source": [
    "full.Age.fillna(999,inplace=True)\n",
    "def girl(aa):\n",
    "    if(aa.Age!=999)&(aa.Title=='Miss')&(aa.Age<=14):\n",
    "        return 'Girl'\n",
    "    elif(aa.Age==999)&(aa.Title=='Miss')&(aa.Parch!=0):\n",
    "        return 'Girl'\n",
    "    else:\n",
    "        return aa.Title"
   ]
  },
  {
   "cell_type": "markdown",
   "metadata": {},
   "source": [
    "创建girl的Tilte"
   ]
  },
  {
   "cell_type": "code",
   "execution_count": 5,
   "metadata": {},
   "outputs": [],
   "source": [
    "full['Title']=full.apply(girl,axis=1)"
   ]
  },
  {
   "cell_type": "markdown",
   "metadata": {},
   "source": [
    "以Title各自的中位数填补Age缺失值"
   ]
  },
  {
   "cell_type": "code",
   "execution_count": 6,
   "metadata": {},
   "outputs": [],
   "source": [
    "Tit=['Mr','Miss','Mrs','Master','Girl','Rareman','Rarewoman']\n",
    "for i in Tit:\n",
    "    full.loc[(full.Age==999)&(full.Title==i),'Age']=full.loc[full.Title==i,'Age'].median()"
   ]
  },
  {
   "cell_type": "markdown",
   "metadata": {},
   "source": [
    "Age => 年龄 插补后分0,1,2 代表 幼年（0-15） 成年（15-55） 老年（55-）"
   ]
  },
  {
   "cell_type": "code",
   "execution_count": 7,
   "metadata": {},
   "outputs": [],
   "source": [
    "full.loc[full['Age']<=15,'Age']=0\n",
    "full.loc[(full['Age']>15)&(full['Age']<55),'Age']=1\n",
    "full.loc[full['Age']>=55,'Age']=2"
   ]
  },
  {
   "cell_type": "markdown",
   "metadata": {},
   "source": [
    "Pclass => 客舱等级(0/1/2等舱位)"
   ]
  },
  {
   "cell_type": "code",
   "execution_count": 8,
   "metadata": {},
   "outputs": [],
   "source": [
    "full['Pclass']=full['Pclass']-1"
   ]
  },
  {
   "cell_type": "markdown",
   "metadata": {},
   "source": [
    "Fare => 船票价格 0 1 2 代表少(0-10) 多(10-50) 很多(50-)"
   ]
  },
  {
   "cell_type": "code",
   "execution_count": 9,
   "metadata": {},
   "outputs": [],
   "source": [
    "full.Fare.fillna(0,inplace=True)\n",
    "full.loc[full['Fare']<=10,'Fare']=0\n",
    "full.loc[(full['Fare']>10)&(full['Fare']<50),'Fare']=1\n",
    "full.loc[full['Fare']>=50,'Fare']=2"
   ]
  },
  {
   "cell_type": "markdown",
   "metadata": {},
   "source": [
    "最后保留如下项目,并切出800的训练集：  \n",
    "Pclass => 客舱等级(0/1/2等舱位 )  \n",
    "Sex => 性别 male=1 female=0  \n",
    "Age => 年龄 插补后分0,1,2 代表 幼年（0-15） 成年（15-55） 老年（55-）  \n",
    "Fare => 船票价格  0 1 2 代表少(0-10) 多(10-50) 很多(50-)  \n",
    "Cabin => 客舱号 清洗成有无此项，并发现有的生存率高  "
   ]
  },
  {
   "cell_type": "code",
   "execution_count": 10,
   "metadata": {},
   "outputs": [],
   "source": [
    "full['Fare']=full['Fare'].astype(int)\n",
    "full['Age']=full['Age'].astype(int)\n",
    "full['Cabin']=full['Cabin'].astype(int)\n",
    "full['Pclass']=full['Pclass'].astype(int)\n",
    "full['Sex']=full['Sex'].astype(int)\n",
    "dataset=full.drop(columns=['Embarked','Name','Parch','PassengerId','SibSp','Ticket','Title'])\n",
    "dataset.dropna(inplace=True)\n",
    "dataset['Survived']=dataset['Survived'].astype(int)\n",
    "train=dataset[:800]\n",
    "test=dataset[800:]\n",
    "#print(train)\n",
    "#print(test)"
   ]
  },
  {
   "cell_type": "markdown",
   "metadata": {},
   "source": [
    "先验概率和条件概率"
   ]
  },
  {
   "cell_type": "code",
   "execution_count": 11,
   "metadata": {},
   "outputs": [],
   "source": [
    "import numpy as np\n",
    "train_array=np.array(train)\n",
    "\n",
    "num_survived=0\n",
    "P_Age_Survived=[0,0,0]\n",
    "P_Sex_Survived=[0,0]\n",
    "P_Pclass_Survived=[0,0,0]\n",
    "P_Cabin_Survived=[0,0]\n",
    "P_Fare_Survived=[0,0,0]\n",
    "\n",
    "P_Age_Dead=[0,0,0]\n",
    "P_Sex_Dead=[0,0]\n",
    "P_Pclass_Dead=[0,0,0]\n",
    "P_Cabin_Dead=[0,0]\n",
    "P_Fare_Dead=[0,0,0]\n",
    "\n",
    "for i in range(800):\n",
    "    if(train_array[i][5]==1):\n",
    "        num_survived=num_survived+1#生存\n",
    "        #条件概率：Age\n",
    "        for j in range(3):\n",
    "            if(train_array[i][0]==j):\n",
    "                P_Age_Survived[j]=P_Age_Survived[j]+1\n",
    "        #条件概率：Sex\n",
    "        for k in range(2):\n",
    "            if(train_array[i][4]==k):\n",
    "                P_Sex_Survived[k]=P_Sex_Survived[k]+1\n",
    "         #条件概率：Pclass\n",
    "        for l in range(3):\n",
    "            if(train_array[i][3]==l):\n",
    "               P_Pclass_Survived[l]=P_Pclass_Survived[l]+1\n",
    "        #条件概率：Cabin\n",
    "        for m in range(2):\n",
    "            if(train_array[i][1]==m):\n",
    "                P_Cabin_Survived[m]=P_Cabin_Survived[m]+1\n",
    "        #条件概率：Fare\n",
    "        for n in range(3):\n",
    "            if(train_array[i][2]==n):\n",
    "                P_Fare_Survived[n]=P_Fare_Survived[n]+1\n",
    "            \n",
    "    else:#死亡 \n",
    "        #条件概率：Age\n",
    "        for j in range(3):\n",
    "            if(train_array[i][0]==j):\n",
    "                P_Age_Dead[j]=P_Age_Dead[j]+1\n",
    "        #条件概率：Sex\n",
    "        for k in range(2):\n",
    "            if(train_array[i][4]==k):\n",
    "                P_Sex_Dead[k]=P_Sex_Dead[k]+1\n",
    "         #条件概率：Pclass\n",
    "        for l in range(3):\n",
    "            if(train_array[i][3]==l):\n",
    "               P_Pclass_Dead[l]=P_Pclass_Dead[l]+1\n",
    "        #条件概率：Cabin\n",
    "        for m in range(2):\n",
    "            if(train_array[i][1]==m):\n",
    "                P_Cabin_Dead[m]=P_Cabin_Dead[m]+1\n",
    "        #条件概率：Fare\n",
    "        for n in range(3):\n",
    "            if(train_array[i][2]==n):\n",
    "                P_Fare_Dead[n]=P_Fare_Dead[n]+1\n",
    "                \n",
    "PC_Survived=num_survived/800\n",
    "\n",
    "for j in range(3):\n",
    "    P_Age_Survived[j]=P_Age_Survived[j]/num_survived   \n",
    "    P_Age_Dead[j]=P_Age_Dead[j]/(800-num_survived)\n",
    "    P_Pclass_Survived[j]=P_Pclass_Survived[j]/num_survived\n",
    "    P_Pclass_Dead[j]=P_Pclass_Dead[j]/(800-num_survived)\n",
    "    P_Fare_Survived[j]=P_Fare_Survived[j]/num_survived\n",
    "    P_Fare_Dead[j]=P_Fare_Dead[j]/(800-num_survived)\n",
    "for j in range(2):\n",
    "    P_Sex_Survived[j]=P_Sex_Survived[j]/num_survived\n",
    "    P_Sex_Dead[j]=P_Sex_Dead[j]/(800-num_survived)\n",
    "    P_Cabin_Survived[j]=P_Cabin_Survived[j]/num_survived\n",
    "    P_Cabin_Dead[j]=P_Cabin_Dead[j]/(800-num_survived)\n",
    "    \n",
    "#print(PC_Survived)\n",
    "#print(P_Age_Survived,P_Pclass_Survived,P_Sex_Survived)\n",
    "#print(P_Age_Dead,P_Pclass_Dead,P_Sex_Dead)"
   ]
  },
  {
   "cell_type": "markdown",
   "metadata": {},
   "source": [
    "计算后验概率(只保留分子)：  "
   ]
  },
  {
   "cell_type": "code",
   "execution_count": 12,
   "metadata": {},
   "outputs": [
    {
     "name": "stdout",
     "output_type": "stream",
     "text": [
      "0.8021978021978022\n"
     ]
    }
   ],
   "source": [
    "test_array=np.array(test)\n",
    "Prob_Survived={}#生存后验概率\n",
    "Prob_Dead={}#死亡后验概率\n",
    "Pred={}#预测\n",
    "for i in range(91):\n",
    "    for j in range(3):\n",
    "        if(test_array[i][0]==j):#Age\n",
    "            for k in range(2):\n",
    "                if(test_array[i][4]==k):#Sex\n",
    "                    for l in range(3):\n",
    "                        if(test_array[i][3]==l):#Pclass\n",
    "                             for m in range(2):\n",
    "                                    if(test_array[i][1]==m):#Cabin\n",
    "                                        for n in range(3):\n",
    "                                            if(test_array[i][2]==n):\n",
    "                                                Prob_Survived[i]=P_Age_Survived[j]*P_Sex_Survived[k]*P_Pclass_Survived[l]*P_Cabin_Survived[m]*P_Fare_Survived[n]*PC_Survived\n",
    "                                                Prob_Dead[i]=P_Age_Dead[j]*P_Sex_Dead[k]*P_Pclass_Dead[l]*P_Cabin_Dead[m]*P_Fare_Dead[n]*(1-PC_Survived)\n",
    "                                                if(Prob_Survived[i]>=Prob_Dead[i]):\n",
    "                                                    Pred[i]=1\n",
    "                                                else:\n",
    "                                                    Pred[i]=0\n",
    " \n",
    "num_correct=0      \n",
    "for i in range(91):\n",
    "    if(Pred[i]==test_array[i][5]):\n",
    "       num_correct=num_correct+1 \n",
    "\n",
    "print(num_correct/91)                \n",
    "\n"
   ]
  }
 ],
 "metadata": {
  "kernelspec": {
   "display_name": "Python 3",
   "language": "python",
   "name": "python3"
  },
  "language_info": {
   "codemirror_mode": {
    "name": "ipython",
    "version": 3
   },
   "file_extension": ".py",
   "mimetype": "text/x-python",
   "name": "python",
   "nbconvert_exporter": "python",
   "pygments_lexer": "ipython3",
   "version": "3.6.4"
  }
 },
 "nbformat": 4,
 "nbformat_minor": 2
}
